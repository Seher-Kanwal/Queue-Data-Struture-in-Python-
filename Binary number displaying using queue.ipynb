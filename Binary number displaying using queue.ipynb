{
 "cells": [
  {
   "cell_type": "markdown",
   "id": "1b9031fb",
   "metadata": {},
   "source": [
    "# 2. Write a program to print binary numbers from 1 to 10 using Queue. Use Queue class implemented in main tutorial.\n",
    "Binary sequence should look like,\n",
    "```\n",
    "    1\n",
    "    10\n",
    "    11\n",
    "    100\n",
    "    101\n",
    "    110\n",
    "    111\n",
    "    1000\n",
    "    1001\n",
    "    1010\n",
    "```\n",
    "Hint: Notice a pattern above. After 1 second and third number is 1+0 and 1+1. 4th and 5th number are second number (i.e. 10) + 0 and second number (i.e. 10) + 1.\n",
    "\n",
    "You also need to add front() function in queue class that can return the front element in the queue."
   ]
  },
  {
   "cell_type": "code",
   "execution_count": 19,
   "id": "31e0ca67",
   "metadata": {},
   "outputs": [],
   "source": [
    "from collections import deque\n",
    "class queue:\n",
    "    def __init__(self):\n",
    "        self.que = deque()\n",
    "    def enqueue(self,value):\n",
    "        return self.que.appendleft(value)\n",
    "    def dequeue(self):\n",
    "        return self.que.pop()\n",
    "    def length(self):\n",
    "        return len(self.que)\n",
    "    def display(self):\n",
    "        return self.que\n",
    "    def front(self):\n",
    "        return self.que[-1]\n",
    "    \n",
    "def produced_binary(n):\n",
    "    obj = queue()\n",
    "    obj.enqueue(\"1\")\n",
    "    for i in range(n):\n",
    "        front = obj.front()\n",
    "        print(\" \", front)\n",
    "        obj.enqueue(str(front) + '0')\n",
    "        obj.enqueue(str(front) + '1')\n",
    "        \n",
    "        obj.dequeue()\n",
    "    "
   ]
  },
  {
   "cell_type": "code",
   "execution_count": 20,
   "id": "bb379350",
   "metadata": {},
   "outputs": [
    {
     "name": "stdout",
     "output_type": "stream",
     "text": [
      "  1\n",
      "  10\n",
      "  11\n",
      "  100\n",
      "  101\n",
      "  110\n",
      "  111\n",
      "  1000\n",
      "  1001\n",
      "  1010\n"
     ]
    }
   ],
   "source": [
    "if __name__ == '__main__':\n",
    "    produced_binary(10)"
   ]
  },
  {
   "cell_type": "code",
   "execution_count": null,
   "id": "cdd9cb98",
   "metadata": {},
   "outputs": [],
   "source": []
  }
 ],
 "metadata": {
  "kernelspec": {
   "display_name": "Python 3 (ipykernel)",
   "language": "python",
   "name": "python3"
  },
  "language_info": {
   "codemirror_mode": {
    "name": "ipython",
    "version": 3
   },
   "file_extension": ".py",
   "mimetype": "text/x-python",
   "name": "python",
   "nbconvert_exporter": "python",
   "pygments_lexer": "ipython3",
   "version": "3.9.12"
  }
 },
 "nbformat": 4,
 "nbformat_minor": 5
}
