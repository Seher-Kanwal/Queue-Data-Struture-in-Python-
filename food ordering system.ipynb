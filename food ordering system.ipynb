{
 "cells": [
  {
   "cell_type": "markdown",
   "id": "5f0a1def",
   "metadata": {},
   "source": [
    "# In food ordering system we servered the order which comes first so the best approach for this is the we'll use  queue here "
   ]
  },
  {
   "cell_type": "markdown",
   "id": "4006ff44",
   "metadata": {},
   "source": [
    " Design a food ordering system where your python program will run two threads,\n",
    "    1. Place Order: This thread will be placing an order and inserting that into a queue. This thread places new order every 0.5 second. (hint: use time.sleep(0.5) function)\n",
    "    1. Serve Order: This thread will server the order. All you need to do is pop the order out of the queue and print it. This thread serves an order every 2 seconds. Also start this thread 1 second after place order thread is started.\n",
    "\n",
    "\n",
    "\n",
    "Pass following list as an argument to place order thread,\n",
    "    ```\n",
    "    orders = ['pizza','samosa','pasta','biryani','burger']\n",
    "    ```\n",
    "    This problem is a producer,consumer problem where place_order thread is producing orders whereas server_order thread is consuming the food orders."
   ]
  },
  {
   "cell_type": "code",
   "execution_count": null,
   "id": "7c00fa5b",
   "metadata": {},
   "outputs": [],
   "source": [
    "from collections import deque\n",
    "import threading\n",
    "import time"
   ]
  },
  {
   "cell_type": "code",
   "execution_count": null,
   "id": "a2a3d7c7",
   "metadata": {},
   "outputs": [],
   "source": [
    "class queue:\n",
    "    def __init__(self):\n",
    "        self.que = deque()\n",
    "    def enqueue(self,value):\n",
    "        return self.que.appendleft(value)\n",
    "    def dequeue(self):\n",
    "        return self.que.pop()\n",
    "    def length(self):\n",
    "        return len(self.que)\n",
    "    def display(self):\n",
    "        return self.que\n",
    "    \n",
    "obj = queue()    \n",
    "def food_order(orders):\n",
    "    for order in orders:\n",
    "        obj.enqueue(order)\n",
    "        print(\"you order is placed:\", order)\n",
    "        time.sleep(0.5)\n",
    "    return     \n",
    "        \n",
    "def servered_order():\n",
    "    time.sleep(1)\n",
    "    while True:\n",
    "        item = obj.dequeue()\n",
    "        print(\"you order is served of item:\", item)\n",
    "        time.sleep(2)\n",
    "    return     \n",
    "    \n",
    "        \n",
    "    "
   ]
  },
  {
   "cell_type": "code",
   "execution_count": null,
   "id": "a88db11a",
   "metadata": {},
   "outputs": [],
   "source": [
    "import sys\n",
    "if __name__ == '__main__':\n",
    "    orders = ['pizza','samosa','pasta','biryani','burger']\n",
    "    thread1 = threading.Thread(target = food_order, args = (orders,))\n",
    "    thread2 = threading.Thread(target = servered_order)\n",
    "    thread1.start()\n",
    "    thread2.start()\n",
    "    \n",
    "    thread1.join()\n",
    "    thread2.join()\n",
    "    \n",
    "    print(\"All orders are Served\")\n",
    "    thread1.kill()\n",
    "    thread2.kill()"
   ]
  }
 ],
 "metadata": {
  "kernelspec": {
   "display_name": "Python 3 (ipykernel)",
   "language": "python",
   "name": "python3"
  },
  "language_info": {
   "codemirror_mode": {
    "name": "ipython",
    "version": 3
   },
   "file_extension": ".py",
   "mimetype": "text/x-python",
   "name": "python",
   "nbconvert_exporter": "python",
   "pygments_lexer": "ipython3",
   "version": "3.9.12"
  }
 },
 "nbformat": 4,
 "nbformat_minor": 5
}
